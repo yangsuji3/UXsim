{
 "cells": [
  {
   "cell_type": "code",
   "execution_count": 2,
   "metadata": {},
   "outputs": [],
   "source": [
    "import numpy as np #시작할때 꼭!!!!!!"
   ]
  },
  {
   "cell_type": "code",
   "execution_count": 28,
   "metadata": {},
   "outputs": [
    {
     "name": "stdout",
     "output_type": "stream",
     "text": [
      "25m/s는 90.0km/h이다\n"
     ]
    }
   ],
   "source": [
    "#m/s->km/h\n",
    "a=25 #m/s\n",
    "b=a*3600/1000 #km/h\n",
    "b\n",
    "print(f\"{a}m/s는 {b:.1f}km/h이다\")  #(f\"{변수} 문자 {변수:.1f}문자\"),변수:.1f는 반올림"
   ]
  },
  {
   "cell_type": "code",
   "execution_count": 30,
   "metadata": {},
   "outputs": [
    {
     "name": "stdout",
     "output_type": "stream",
     "text": [
      "200km/h는 55.6m/s이다\n"
     ]
    }
   ],
   "source": [
    "#km/h->m/s\n",
    "a=200 #km/h\n",
    "b=a*1000/3600 #m/s\n",
    "print(f\"{a}km/h는 {b:.1f}m/s이다\")"
   ]
  },
  {
   "cell_type": "code",
   "execution_count": 44,
   "metadata": {},
   "outputs": [
    {
     "data": {
      "text/plain": [
       "5e-10"
      ]
     },
     "execution_count": 44,
     "metadata": {},
     "output_type": "execute_result"
    }
   ],
   "source": [
    "#물방울 부피\n",
    "#mm3->m3\n",
    "a=0.5 #mm3\n",
    "b=a*(10**-9) #m3\n",
    "b"
   ]
  },
  {
   "cell_type": "code",
   "execution_count": 25,
   "metadata": {},
   "outputs": [],
   "source": [
    "def km_per_hour_to_m_per_sec(km_per_hour):\n",
    "    # km/h를 m/s로 변환하는 공식: 1 km/h = 0.277778 m/s\n",
    "    m_per_sec = km_per_hour * 1000 / 3600\n",
    "    return m_per_sec\n"
   ]
  },
  {
   "cell_type": "code",
   "execution_count": 39,
   "metadata": {},
   "outputs": [
    {
     "name": "stdout",
     "output_type": "stream",
     "text": [
      "100 km/h는 27.8 m/s입니다.\n",
      "-----------------------\n",
      "100km/h는 27.77777777777778m/s입니다\n",
      "100 km/h는 27.8 m/s입니다.\n",
      "27.8\n",
      "27.8\n"
     ]
    }
   ],
   "source": [
    "km_per_hour = 100  # 예시로 100 km/h를 사용합니다.\n",
    "m_per_sec = km_per_hour_to_m_per_sec(km_per_hour)\n",
    "print(f\"{km_per_hour} km/h는 {m_per_sec:.1f} m/s입니다.\")     #print(f\"{변수} 문자 {변수:.1f}문자\"),변수:.1f는 반올림\n",
    "print(\"-----------------------\")\n",
    "\n",
    "print(f\"{km_per_hour}km/h는 {m_per_sec}m/s입니다\")\n",
    "print(km_per_hour ,\"km/h는\", np.round(m_per_sec,1), \"m/s입니다.\")\n",
    "print(np.round(m_per_sec,1))\n",
    "print(f\"{m_per_sec:.1f}\")   #(f\"{변수} 문자 {변수:.1f}문자\"),변수:.1f는 반올림\n"
   ]
  },
  {
   "cell_type": "code",
   "execution_count": 46,
   "metadata": {},
   "outputs": [
    {
     "name": "stdout",
     "output_type": "stream",
     "text": [
      "직교좌표계 (x, y) = (18, 10)\n",
      "극좌표계 (r, θ) = (20.59, 0.51) rad (29.1°)\n"
     ]
    }
   ],
   "source": [
    "## 예제 1: 직교좌표계 극좌표계로 변환하기\n",
    "x = 18\n",
    "y = 10\n",
    "r = np.sqrt(x**2 + y**2) \n",
    "theta = np.arctan2(y, x)  # y, x 순서 주의\n",
    "print(f\"직교좌표계 (x, y) = ({x}, {y})\")\n",
    "print(f\"극좌표계 (r, θ) = ({r:.2f}, {theta:.2f}) rad ({np.degrees(theta):.1f}°)\")  #기본이 라디안이라서 np.degrees()해줘야함"
   ]
  },
  {
   "cell_type": "code",
   "execution_count": 3,
   "metadata": {},
   "outputs": [
    {
     "data": {
      "text/plain": [
       "29.0546"
      ]
     },
     "execution_count": 3,
     "metadata": {},
     "output_type": "execute_result"
    }
   ],
   "source": [
    "x = 18\n",
    "y = 10\n",
    "r = np.sqrt(x**2 + y**2) \n",
    "theta = np.arctan2(y, x)\n",
    "np.round(np.degrees(theta),4)  #기본이 라디안이라서 np.degrees()해줘야함"
   ]
  },
  {
   "cell_type": "code",
   "execution_count": 40,
   "metadata": {},
   "outputs": [
    {
     "name": "stdout",
     "output_type": "stream",
     "text": [
      "극좌표계 (r, θ) = (2, 1.05) rad\n",
      "직교좌표계 (x, y) = (1.00, 1.73)\n"
     ]
    }
   ],
   "source": [
    "## 예제 2: 극좌표계로 직교좌표계로 변환\n",
    "r = 2\n",
    "theta = np.pi/3  # 60도\n",
    "x = r * np.cos(theta) # theta의 단위는 라디안\n",
    "y = r * np.sin(theta) # theta의 단위는 라디안\n",
    "print(f\"극좌표계 (r, θ) = ({r}, {theta:.2f}) rad\")\n",
    "print(f\"직교좌표계 (x, y) = ({x:.2f}, {y:.2f})\")"
   ]
  },
  {
   "cell_type": "code",
   "execution_count": 42,
   "metadata": {},
   "outputs": [
    {
     "name": "stdout",
     "output_type": "stream",
     "text": [
      "직교좌표계 (x, y) = (-8, -5)\n",
      "극좌표계 (r, θ) = (9.43, -2.58) rad (-148.0°)\n"
     ]
    }
   ],
   "source": [
    "#예제 3: 직교좌표계로 극좌표계로 변환\n",
    "x = -8\n",
    "y = -5\n",
    "r = np.sqrt(x**2 + y**2) \n",
    "theta = np.arctan2(y, x)  # y, x 순서 주의\n",
    "print(f\"직교좌표계 (x, y) = ({x}, {y})\")\n",
    "print(f\"극좌표계 (r, θ) = ({r:.2f}, {theta:.2f}) rad ({np.degrees(theta):.1f}°)\")"
   ]
  },
  {
   "cell_type": "code",
   "execution_count": 6,
   "metadata": {},
   "outputs": [
    {
     "name": "stdout",
     "output_type": "stream",
     "text": [
      "극좌표계 (9.4, -148.0)\n"
     ]
    }
   ],
   "source": [
    "x=-8\n",
    "y=-5\n",
    "r=np.sqrt((x**2+y**2))\n",
    "theta=np.arctan2(y,x)\n",
    "print(\"극좌표계\",(np.round(r,1),np.round(np.degrees(theta),1)))"
   ]
  }
 ],
 "metadata": {
  "kernelspec": {
   "display_name": "physics",
   "language": "python",
   "name": "python3"
  },
  "language_info": {
   "codemirror_mode": {
    "name": "ipython",
    "version": 3
   },
   "file_extension": ".py",
   "mimetype": "text/x-python",
   "name": "python",
   "nbconvert_exporter": "python",
   "pygments_lexer": "ipython3",
   "version": "3.12.2"
  }
 },
 "nbformat": 4,
 "nbformat_minor": 2
}
