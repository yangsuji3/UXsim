{
 "cells": [
  {
   "cell_type": "markdown",
   "metadata": {},
   "source": [
    "백터의 크기 \n",
    "a=np.sqrt(a_x**2+a_y**2+a_z**2)=np.sqrt(np.sum(a**2))=a_magnitude\n",
    "<두 벡터의 스칼라곱> 내적 dot 사욯하면 바로 각각의 위치의 값들을 다 더한 갓이 나온다.(제곱해서 더한것을 루트씌운것)\n",
    "벡터 a·벡터 b=a·b·cosθ=a_x*b_x+a_y*b_y+a_z*b_z\n",
    "내적 값이 0이면 두 백터는 서로 수직한다 a·b=.a_x*b_x+a_y*b_y+a_z*b_z=0\n",
    "같은 벡터 방향끼리 곱하면 1이 나온다. a·a=a_x**2+a_y**2+a_z**2=1\n",
    "단위벡터 x·x=1/x·y=0"
   ]
  },
  {
   "cell_type": "markdown",
   "metadata": {},
   "source": [
    "<두 벡터의 벡터곱>외적 cross를 사용하면 벡터의 위치가 나오는데 이를 크기로 정리를 해줘야한다.(제곱해서 더한것을 루트씌워야 한다)"
   ]
  },
  {
   "cell_type": "markdown",
   "metadata": {},
   "source": [
    "ab = b-a\n",
    "ab=ob-oa\n",
    "ab #벡터값은 a에서 b로 이어지는 직선\n",
    "ab면 a에서 b로 간다.\n",
    "-oa=ao  o가 사이에서 이어준다\n",
    "ab=aoob"
   ]
  },
  {
   "cell_type": "markdown",
   "metadata": {},
   "source": [
    "round(변수,표현하고 싶은 자릿수)\n",
    "시작하기 전에 주어진게 무엇인지에 따라 정리 달라짐\n",
    "1.극좌표계일떄\n",
    "2.직각좌표계일떄\n",
    "3.벡터가 a=x+y+z식으로 주어지면 바로 array로 정의"
   ]
  },
  {
   "cell_type": "markdown",
   "metadata": {},
   "source": [
    "사이값 θ 구하려면<내적> cosθ=벡터a·벡터b/a·b\n",
    "a_magnitude=np.sqrt(np.sum(a**2))\n",
    "b_magnitude=np.sqrt(np.sum(b**2))\n",
    "cosθ(cos_theta)=np.dot(a,b)/a_magnitude·b_magnide\n",
    "theta_radians=np.arccos(cos_theta)\n",
    "np.round=np.degrees(theta_radians)"
   ]
  },
  {
   "cell_type": "markdown",
   "metadata": {},
   "source": [
    "백터의 크기 구하기<외적> cross값이 나오면 sum을 하고 루트를 씌워서 정리를 한다.절대값느낌 \n",
    "백터 c=백터 a X 벡터 b=단위벡터c·a·b·sinθ\n",
    "cross_product_a_b=np.cross(a,b)\n",
    "cross_product_magnitude=np.sqrt(np.sum(product**2))"
   ]
  },
  {
   "cell_type": "code",
   "execution_count": 1,
   "metadata": {},
   "outputs": [],
   "source": [
    "import numpy as np #시작할때 꼭!!!!!!!!!!!!!!!"
   ]
  },
  {
   "cell_type": "code",
   "execution_count": 4,
   "metadata": {},
   "outputs": [
    {
     "data": {
      "text/plain": [
       "(-21.7, -12.5)"
      ]
     },
     "execution_count": 4,
     "metadata": {},
     "output_type": "execute_result"
    }
   ],
   "source": [
    "#극좌표계로 위치벡터 x,y성분 구하기\n",
    "r = 25.0 # 거리, 미터\n",
    "theta_degrees = 210 # 각도, 도\n",
    "\n",
    "theta_radians = np.radians(theta_degrees) #라디안으로 정의해야 문제가 풀림(기본이 라디안이라서)\n",
    "x = r * np.cos(theta_radians) #x=r*cos\n",
    "y = r * np.sin(theta_radians) #y=r*sin\n",
    "\n",
    "np.round(x,1), np.round(y,1)"
   ]
  },
  {
   "cell_type": "code",
   "execution_count": 37,
   "metadata": {},
   "outputs": [
    {
     "data": {
      "text/plain": [
       "(8.7, 5.0)"
      ]
     },
     "execution_count": 37,
     "metadata": {},
     "output_type": "execute_result"
    }
   ],
   "source": [
    "r = 10 # 거리, 미터\n",
    "theta_degrees = 30# 각도, 도\n",
    "\n",
    "theta_radians = np.radians(theta_degrees) #라디안으로 정의해야 문제가 풀림(기본이 라디안이라서)\n",
    "x = r * np.cos(theta_radians) #x=r*cos\n",
    "y = r * np.sin(theta_radians) #y=r*sin\n",
    "\n",
    "np.round(x,1), np.round(y,1)"
   ]
  },
  {
   "cell_type": "code",
   "execution_count": 43,
   "metadata": {},
   "outputs": [
    {
     "data": {
      "text/plain": [
       "(13.31, 10.028334611147063, 8.758770483143632)"
      ]
     },
     "execution_count": 43,
     "metadata": {},
     "output_type": "execute_result"
    }
   ],
   "source": [
    "#벡터a,벡터b의 극좌표계로 벡터 c의 값,직교좌표 구하기\n",
    "\n",
    "a_magnitude=10\n",
    "b_magnitude=4\n",
    "theta_a_degrees=30\n",
    "theta_b_degrees=70\n",
    "theta_a_radians=np.radians(theta_a_degrees)\n",
    "theta_b_radians=np.radians(theta_b_degrees)\n",
    "a_x=a_magnitude*np.cos(theta_a_radians)\n",
    "b_x=b_magnitude*np.cos(theta_b_radians)\n",
    "a_y=a_magnitude*np.sin(theta_a_radians)\n",
    "b_y=b_magnitude*np.sin(theta_b_radians)\n",
    "c_x=a_x+b_x\n",
    "c_y=a_y+b_y\n",
    "c_magnitude=np.sqrt(c_x**2+c_y**2)\n",
    "\n",
    "np.round(c_magnitude,2),c_x,c_y"
   ]
  },
  {
   "cell_type": "code",
   "execution_count": null,
   "metadata": {},
   "outputs": [],
   "source": [
    "c_magnitude=np.sqrt(c_x**2+c_y**2)\n"
   ]
  },
  {
   "cell_type": "code",
   "execution_count": 7,
   "metadata": {},
   "outputs": [
    {
     "data": {
      "text/plain": [
       "102.16"
      ]
     },
     "execution_count": 7,
     "metadata": {},
     "output_type": "execute_result"
    }
   ],
   "source": [
    "# 벡터의 각도(아크탄젠트)를 라디안으로 계산\n",
    "angle_radians = np.arctan2(c_y, c_x)\n",
    "\n",
    "# 라디안을 도로 변환\n",
    "angle_degrees = np.degrees(angle_radians)\n",
    "\n",
    "# 각도를 소숫점 셋째자리에서 반올림\n",
    "angle_degrees_rounded = np.round(angle_degrees, 2)\n",
    "\n",
    "angle_degrees_rounded"
   ]
  },
  {
   "cell_type": "code",
   "execution_count": null,
   "metadata": {},
   "outputs": [],
   "source": [
    "# a 벡터의 크기?\n",
    "np.sqrt(7**2 + 4**2 + (-1) **2) #위 아래가 같은 식\n",
    "np.sqrt(np.sum(a**2))          #아래 있는 np.sum이 걍 벡터 더하는 식임"
   ]
  },
  {
   "cell_type": "code",
   "execution_count": 6,
   "metadata": {},
   "outputs": [
    {
     "data": {
      "text/plain": [
       "array([-12,  13, -20])"
      ]
     },
     "execution_count": 6,
     "metadata": {},
     "output_type": "execute_result"
    }
   ],
   "source": [
    "#벡터가 a=x+y+z식이나 좌표로 주어지면 바로 array로 정의\n",
    "a=np.array([7,4,-1])   #array로 묶어서벡터표현 \n",
    "b=np.array([2,-3,5]) \n",
    "c=np.array([-5,1,-3])\n",
    "d=a-2*b+3*c \n",
    "d"
   ]
  },
  {
   "cell_type": "code",
   "execution_count": 9,
   "metadata": {},
   "outputs": [
    {
     "data": {
      "text/plain": [
       "array([-5, -7,  6])"
      ]
     },
     "execution_count": 9,
     "metadata": {},
     "output_type": "execute_result"
    }
   ],
   "source": [
    "#벡터값정의내리기\n",
    "ab=b-a #b에서 a로 이어지는 벡터\n",
    "ab"
   ]
  },
  {
   "cell_type": "code",
   "execution_count": 10,
   "metadata": {},
   "outputs": [
    {
     "data": {
      "text/plain": [
       "60.0"
      ]
     },
     "execution_count": 10,
     "metadata": {},
     "output_type": "execute_result"
    }
   ],
   "source": [
    "#두 벡터의 사이값θ 계산(스칼라곱 사용해서 cos값 구하기) \n",
    "a=np.array([1,1,0])\n",
    "b=np.array([0,1,-1])\n",
    "a_magnitude=np.sqrt(np.sum(a**2))  #magnitude로 정의 내려도 되고 바로 식으로 쭉 나열해도 ㄱㅊ\n",
    "b_magnitude=np.sqrt(np.sum(b**2))  #cos_theta=np.dot(a,b)/(np.sqrt(np.sum(a**2))*np.sqrt(np.sum(b**2)))\n",
    "cos_theta=np.dot(a,b)/(a_magnitude*b_magnitude)  #곱하기는 괄호로 묶어야 함!!!\n",
    "theta_radians=np.arccos(cos_theta)\n",
    "np.round(np.degrees(theta_radians),2)\n"
   ]
  },
  {
   "cell_type": "code",
   "execution_count": 26,
   "metadata": {},
   "outputs": [
    {
     "data": {
      "text/plain": [
       "6.59"
      ]
     },
     "execution_count": 26,
     "metadata": {},
     "output_type": "execute_result"
    }
   ],
   "source": [
    "a=np.array([1,1,2])\n",
    "b=np.array([2,3,5])\n",
    "a_magnitude=np.sqrt(np.sum(a**2))  #magnitude로 정의 내려도 되고 바로 식으로 쭉 나열해도 ㄱㅊ\n",
    "b_magnitude=np.sqrt(np.sum(b**2))  #cos_theta=np.dot(a,b)/(np.sqrt(np.sum(a**2))*np.sqrt(np.sum(b**2)))\n",
    "cos_theta=np.dot(a,b)/(a_magnitude*b_magnitude)  #곱하기는 괄호로 묶어야 함!!!\n",
    "theta_radians=np.arccos(cos_theta)\n",
    "np.round(np.degrees(theta_radians),2)\n"
   ]
  },
  {
   "cell_type": "code",
   "execution_count": 19,
   "metadata": {},
   "outputs": [
    {
     "data": {
      "text/plain": [
       "7.0"
      ]
     },
     "execution_count": 19,
     "metadata": {},
     "output_type": "execute_result"
    }
   ],
   "source": [
    "#벡터의 곱으로 벡터의 크기 구하기(크기 구해서 절댓값 씌우는 느낌)\n",
    "a=np.array([2,1,0])\n",
    "b=np.array([0,1,-3])\n",
    "cross_product_a_b=np.cross(a,b)\n",
    "cross_product_magnitute=np.sqrt(np.sum(cross_product_a_b**2))\n",
    "np.round(cross_product_magnitute,2)"
   ]
  },
  {
   "cell_type": "code",
   "execution_count": 29,
   "metadata": {},
   "outputs": [
    {
     "data": {
      "text/plain": [
       "0.87"
      ]
     },
     "execution_count": 29,
     "metadata": {},
     "output_type": "execute_result"
    }
   ],
   "source": [
    "a=np.array([1,1,2])\n",
    "b=np.array([2,3,5])\n",
    "cross_product_a_b=np.cross(a,b)\n",
    "cross_product_magnitute=np.sqrt(np.sum(cross_product_a_b**2))\n",
    "triangle_area = cross_product_magnitute / 2\n",
    "np.round(triangle_area,2)"
   ]
  },
  {
   "cell_type": "code",
   "execution_count": 11,
   "metadata": {},
   "outputs": [
    {
     "data": {
      "text/plain": [
       "6.71"
      ]
     },
     "execution_count": 11,
     "metadata": {},
     "output_type": "execute_result"
    }
   ],
   "source": [
    "#삼각형의 크기 벡터곱으로 벡터의 크기구함(평사의 넓이) 평사의 넓이/2=삼각형의 넓이\n",
    "# 점 P, Q, R의 좌표\n",
    "P = np.array([1, 3, 2])\n",
    "Q = np.array([2, 0, 0])\n",
    "R = np.array([0, 0, 4])\n",
    "\n",
    "# 벡터 PQ와 PR 계산\n",
    "PQ = Q - P #PQ=OQ-OP\n",
    "PR = R - P #PR=OR-OP\n",
    "\n",
    "# 벡터 PQ와 PR의 외적 계산\n",
    "cross_product = np.cross(PQ, PR)\n",
    "\n",
    "# 외적 벡터의 크기 계산\n",
    "cross_product_magnitude = np.sqrt(np.sum(cross_product**2))\n",
    "\n",
    "# 삼각형의 넓이는 외적 벡터의 크기의 절반\n",
    "triangle_area = cross_product_magnitude / 2\n",
    "np.round(triangle_area,2)"
   ]
  },
  {
   "cell_type": "code",
   "execution_count": 27,
   "metadata": {},
   "outputs": [
    {
     "data": {
      "text/plain": [
       "10.32"
      ]
     },
     "execution_count": 27,
     "metadata": {},
     "output_type": "execute_result"
    }
   ],
   "source": [
    "P = np.array([2,4,3])\n",
    "Q = np.array([3, 0, 0])\n",
    "R = np.array([0, 1,5])\n",
    "\n",
    "# 벡터 PQ와 PR 계산\n",
    "PQ = Q - P #PQ=OQ-OP\n",
    "PR = R - P #PR=OR-OP\n",
    "\n",
    "# 벡터 PQ와 PR의 외적 계산\n",
    "cross_product = np.cross(PQ, PR)\n",
    "\n",
    "# 외적 벡터의 크기 계산\n",
    "cross_product_magnitude = np.sqrt(np.sum(cross_product**2))\n",
    "\n",
    "# 삼각형의 넓이는 외적 벡터의 크기의 절반\n",
    "triangle_area = cross_product_magnitude / 2\n",
    "np.round(triangle_area,2)"
   ]
  },
  {
   "cell_type": "code",
   "execution_count": 16,
   "metadata": {},
   "outputs": [
    {
     "data": {
      "text/plain": [
       "[(-4/5, -3/5), (4/5, 3/5)]"
      ]
     },
     "execution_count": 16,
     "metadata": {},
     "output_type": "execute_result"
    }
   ],
   "source": [
    "from sympy import symbols, Eq, solve\n",
    "#수직이 되는 벡터의 값을 b라 정의하고 주어진 벡터의 값과의 관계로 식 세우기\n",
    "# 심볼 변수 정의\n",
    "b_x, b_y = symbols('b_x b_y') #걍 곱한다.백터곱마냥 두개의 x,y의 계수 곱해요\n",
    "\n",
    "# 주어진 조건을 바탕으로 방정식 설정\n",
    "eq1 = Eq(3 * b_x - 4 * b_y, 0)  # a와 b가 수직이므로 a·b = 0\n",
    "eq2 = Eq(b_x**2 + b_y**2, 1)    # b는 단위벡터이므로 b의 크기의 제곱은 1\n",
    "\n",
    "# 연립방정식 풀이\n",
    "solution = solve((eq1, eq2), (b_x, b_y))\n",
    "solution"
   ]
  },
  {
   "cell_type": "code",
   "execution_count": 49,
   "metadata": {},
   "outputs": [
    {
     "data": {
      "text/plain": [
       "[(0, 0, -1), (0, 0, 1)]"
      ]
     },
     "execution_count": 49,
     "metadata": {},
     "output_type": "execute_result"
    }
   ],
   "source": [
    "from sympy import symbols, Eq, solve\n",
    "#수직이 되는 벡터의 값을 b라 정의하고 주어진 벡터의 값과의 관계로 식 세우기\n",
    "# 심볼 변수 정의\n",
    "b_x, b_y ,b_z = symbols('b_x b_y b_z') #걍 곱한다.백터곱마냥 두개의 x,y의 계수 곱해요\n",
    "\n",
    "# 주어진 조건을 바탕으로 방정식 설정\n",
    "eq1 = Eq(3 * b_x - 4 * b_y+ 0*b_z, 0)  # a와 b가 수직이므로 a·b = 0\n",
    "eq2 = Eq(b_x**2 + b_y**2 + b_z**2, 1)\n",
    "eq3 = Eq(b_x,0)  # b는 단위벡터이므로 b의 크기의 제곱은 1\n",
    "\n",
    "# 연립방정식 풀이\n",
    "solution = solve((eq1, eq2, eq3), (b_x, b_y, b_z))\n",
    "solution"
   ]
  },
  {
   "cell_type": "code",
   "execution_count": 24,
   "metadata": {},
   "outputs": [
    {
     "data": {
      "text/plain": [
       "(array([ 0,  2, -2]), array([2, 2, 0]), array([0, 0, 0]), array([-2,  0, -2]))"
      ]
     },
     "execution_count": 24,
     "metadata": {},
     "output_type": "execute_result"
    }
   ],
   "source": [
    "#두 벡터에 수직인 벡터\n",
    "a = np.array([1, 1, 0])\n",
    "b = np.array([0, 1, -1])\n",
    "c=np.cross(a,b)\n",
    "v1 = np.array([1, 1, 1])\n",
    "v2 = np.array([1, -1, 1])\n",
    "v3 = np.array([1, -1, -1])\n",
    "v4 = np.array([1, 1, -1])\n",
    "cross_c_v1=np.cross(c,v1)\n",
    "cross_c_v2=np.cross(c,v2)\n",
    "cross_c_v3=np.cross(c,v3)\n",
    "cross_c_v4=np.cross(c,v4)\n",
    "dot_c_v1,dot_c_v2,dot_c_v3,dot_c_v4\n"
   ]
  }
 ],
 "metadata": {
  "kernelspec": {
   "display_name": "physics",
   "language": "python",
   "name": "python3"
  },
  "language_info": {
   "codemirror_mode": {
    "name": "ipython",
    "version": 3
   },
   "file_extension": ".py",
   "mimetype": "text/x-python",
   "name": "python",
   "nbconvert_exporter": "python",
   "pygments_lexer": "ipython3",
   "version": "3.12.2"
  }
 },
 "nbformat": 4,
 "nbformat_minor": 2
}
